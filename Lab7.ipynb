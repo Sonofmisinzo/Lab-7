{
  "nbformat": 4,
  "nbformat_minor": 0,
  "metadata": {
    "colab": {
      "provenance": []
    },
    "kernelspec": {
      "name": "python3",
      "display_name": "Python 3"
    },
    "language_info": {
      "name": "python"
    }
  },
  "cells": [
    {
      "cell_type": "code",
      "execution_count": 12,
      "metadata": {
        "id": "4GPj48qLthVb"
      },
      "outputs": [],
      "source": [
        "from time import perf_counter\n",
        "\n",
        "import pandas as pd\n",
        "import numpy as np\n",
        "import matplotlib.pyplot as plt\n",
        "from mpl_toolkits.mplot3d import Axes3D"
      ]
    },
    {
      "cell_type": "markdown",
      "source": [
        "# Задание 1"
      ],
      "metadata": {
        "id": "Dt4cMcaTv1Wy"
      }
    },
    {
      "cell_type": "code",
      "source": [
        "# Создаем два списка и два массива с 1 миллионом элементов\n",
        "np.random.seed(0)\n",
        "lst1 = [np.random.rand() for i in range(1000000)]\n",
        "np.random.seed(0)\n",
        "lst2 = [np.random.rand() for i in range(1000000)]\n",
        "arr1 = np.array(lst1)\n",
        "arr2 = np.array(lst2)"
      ],
      "metadata": {
        "id": "4Df5uzIUvyD8"
      },
      "execution_count": 3,
      "outputs": []
    },
    {
      "cell_type": "code",
      "source": [
        "# Измеряем время выполнения операции поэлементного перемножения для списков\n",
        "start = perf_counter()\n",
        "lst_mult = [lst1[i] * lst2[i] for i in range(len(lst1))]\n",
        "end = perf_counter()\n",
        "lst_time = end - start"
      ],
      "metadata": {
        "id": "tS7jkF5_wC2J"
      },
      "execution_count": 4,
      "outputs": []
    },
    {
      "cell_type": "code",
      "source": [
        "# Измеряем время выполнения операции поэлементного перемножения для массивов\n",
        "start = perf_counter()\n",
        "arr_mult = np.multiply(arr1, arr2)\n",
        "end = perf_counter()\n",
        "arr_time = end - start"
      ],
      "metadata": {
        "id": "Ce_OCvSYwEWf"
      },
      "execution_count": 5,
      "outputs": []
    },
    {
      "cell_type": "code",
      "source": [
        "# Выводим результаты\n",
        "print(\"Время выполнения операции поэлементного перемножения для списка:\", lst_time)\n",
        "print(\"Время выполнения операции поэлементного перемножения для массива:\", arr_time)"
      ],
      "metadata": {
        "colab": {
          "base_uri": "https://localhost:8080/"
        },
        "id": "urj4l2HowGAD",
        "outputId": "311197b4-3324-4011-d5fd-482606db25ca"
      },
      "execution_count": 6,
      "outputs": [
        {
          "output_type": "stream",
          "name": "stdout",
          "text": [
            "Время выполнения операции поэлементного перемножения для списка: 0.11147686099999987\n",
            "Время выполнения операции поэлементного перемножения для массива: 0.003117216000006806\n"
          ]
        }
      ]
    },
    {
      "cell_type": "markdown",
      "source": [
        "# Задание 2"
      ],
      "metadata": {
        "id": "qm6wXMq0wiUl"
      }
    },
    {
      "cell_type": "code",
      "source": [
        "!wget https://github.com/ITMOPython-2022/Lab-7/raw/main/data2.csv"
      ],
      "metadata": {
        "colab": {
          "base_uri": "https://localhost:8080/"
        },
        "id": "XNLZ50Puwig9",
        "outputId": "cd502b6b-d2fc-4488-af4d-87428140babe"
      },
      "execution_count": 8,
      "outputs": [
        {
          "output_type": "stream",
          "name": "stdout",
          "text": [
            "--2023-02-21 16:15:33--  https://github.com/ITMOPython-2022/Lab-7/raw/main/data2.csv\n",
            "Resolving github.com (github.com)... 140.82.121.3\n",
            "Connecting to github.com (github.com)|140.82.121.3|:443... connected.\n",
            "HTTP request sent, awaiting response... 302 Found\n",
            "Location: https://raw.githubusercontent.com/ITMOPython-2022/Lab-7/main/data2.csv [following]\n",
            "--2023-02-21 16:15:33--  https://raw.githubusercontent.com/ITMOPython-2022/Lab-7/main/data2.csv\n",
            "Resolving raw.githubusercontent.com (raw.githubusercontent.com)... 185.199.109.133, 185.199.110.133, 185.199.108.133, ...\n",
            "Connecting to raw.githubusercontent.com (raw.githubusercontent.com)|185.199.109.133|:443... connected.\n",
            "HTTP request sent, awaiting response... 200 OK\n",
            "Length: 1152316 (1.1M) [text/plain]\n",
            "Saving to: ‘data2.csv’\n",
            "\n",
            "data2.csv           100%[===================>]   1.10M  --.-KB/s    in 0.02s   \n",
            "\n",
            "2023-02-21 16:15:33 (53.8 MB/s) - ‘data2.csv’ saved [1152316/1152316]\n",
            "\n"
          ]
        }
      ]
    },
    {
      "cell_type": "code",
      "source": [
        "# Загружаем данные из файла data2.csv\n",
        "data = pd.read_csv('data2.csv')"
      ],
      "metadata": {
        "id": "BIyyXwbRwIQp"
      },
      "execution_count": 34,
      "outputs": []
    },
    {
      "cell_type": "code",
      "source": [
        "data.head(5)"
      ],
      "metadata": {
        "colab": {
          "base_uri": "https://localhost:8080/",
          "height": 206
        },
        "id": "jD33PtFww8DD",
        "outputId": "13ae3779-b3c3-46b2-80e1-162ddac10819"
      },
      "execution_count": 35,
      "outputs": [
        {
          "output_type": "execute_result",
          "data": {
            "text/plain": [
              "          ph    Hardness        Solids  Chloramines     Sulfate  Conductivity  \\\n",
              "0   3.633163  179.350577  28584.175810     5.246382  292.440536    500.866018   \n",
              "1   8.860451  193.743105  24085.112140     6.183110         NaN    526.704924   \n",
              "2  10.137932  242.005716  15088.827653     8.677789         NaN    596.346346   \n",
              "3   9.900815  199.083752  16233.134679     8.146643  380.113030    345.019852   \n",
              "4  10.268431  218.216682  13753.993373     7.512608  334.178075    341.602209   \n",
              "\n",
              "   Organic_carbon  Trihalomethanes  Turbidity  Potability  \n",
              "0        8.956401        77.360985   3.349572           1  \n",
              "1        9.901328        81.339340   4.677713           1  \n",
              "2       14.971199        62.365824   3.872018           1  \n",
              "3       20.386720        73.381488   2.395002           1  \n",
              "4       15.671564        84.682660   4.304689           1  "
            ],
            "text/html": [
              "\n",
              "  <div id=\"df-b5a4815d-b736-4a55-bd5b-af4663f4ee66\">\n",
              "    <div class=\"colab-df-container\">\n",
              "      <div>\n",
              "<style scoped>\n",
              "    .dataframe tbody tr th:only-of-type {\n",
              "        vertical-align: middle;\n",
              "    }\n",
              "\n",
              "    .dataframe tbody tr th {\n",
              "        vertical-align: top;\n",
              "    }\n",
              "\n",
              "    .dataframe thead th {\n",
              "        text-align: right;\n",
              "    }\n",
              "</style>\n",
              "<table border=\"1\" class=\"dataframe\">\n",
              "  <thead>\n",
              "    <tr style=\"text-align: right;\">\n",
              "      <th></th>\n",
              "      <th>ph</th>\n",
              "      <th>Hardness</th>\n",
              "      <th>Solids</th>\n",
              "      <th>Chloramines</th>\n",
              "      <th>Sulfate</th>\n",
              "      <th>Conductivity</th>\n",
              "      <th>Organic_carbon</th>\n",
              "      <th>Trihalomethanes</th>\n",
              "      <th>Turbidity</th>\n",
              "      <th>Potability</th>\n",
              "    </tr>\n",
              "  </thead>\n",
              "  <tbody>\n",
              "    <tr>\n",
              "      <th>0</th>\n",
              "      <td>3.633163</td>\n",
              "      <td>179.350577</td>\n",
              "      <td>28584.175810</td>\n",
              "      <td>5.246382</td>\n",
              "      <td>292.440536</td>\n",
              "      <td>500.866018</td>\n",
              "      <td>8.956401</td>\n",
              "      <td>77.360985</td>\n",
              "      <td>3.349572</td>\n",
              "      <td>1</td>\n",
              "    </tr>\n",
              "    <tr>\n",
              "      <th>1</th>\n",
              "      <td>8.860451</td>\n",
              "      <td>193.743105</td>\n",
              "      <td>24085.112140</td>\n",
              "      <td>6.183110</td>\n",
              "      <td>NaN</td>\n",
              "      <td>526.704924</td>\n",
              "      <td>9.901328</td>\n",
              "      <td>81.339340</td>\n",
              "      <td>4.677713</td>\n",
              "      <td>1</td>\n",
              "    </tr>\n",
              "    <tr>\n",
              "      <th>2</th>\n",
              "      <td>10.137932</td>\n",
              "      <td>242.005716</td>\n",
              "      <td>15088.827653</td>\n",
              "      <td>8.677789</td>\n",
              "      <td>NaN</td>\n",
              "      <td>596.346346</td>\n",
              "      <td>14.971199</td>\n",
              "      <td>62.365824</td>\n",
              "      <td>3.872018</td>\n",
              "      <td>1</td>\n",
              "    </tr>\n",
              "    <tr>\n",
              "      <th>3</th>\n",
              "      <td>9.900815</td>\n",
              "      <td>199.083752</td>\n",
              "      <td>16233.134679</td>\n",
              "      <td>8.146643</td>\n",
              "      <td>380.113030</td>\n",
              "      <td>345.019852</td>\n",
              "      <td>20.386720</td>\n",
              "      <td>73.381488</td>\n",
              "      <td>2.395002</td>\n",
              "      <td>1</td>\n",
              "    </tr>\n",
              "    <tr>\n",
              "      <th>4</th>\n",
              "      <td>10.268431</td>\n",
              "      <td>218.216682</td>\n",
              "      <td>13753.993373</td>\n",
              "      <td>7.512608</td>\n",
              "      <td>334.178075</td>\n",
              "      <td>341.602209</td>\n",
              "      <td>15.671564</td>\n",
              "      <td>84.682660</td>\n",
              "      <td>4.304689</td>\n",
              "      <td>1</td>\n",
              "    </tr>\n",
              "  </tbody>\n",
              "</table>\n",
              "</div>\n",
              "      <button class=\"colab-df-convert\" onclick=\"convertToInteractive('df-b5a4815d-b736-4a55-bd5b-af4663f4ee66')\"\n",
              "              title=\"Convert this dataframe to an interactive table.\"\n",
              "              style=\"display:none;\">\n",
              "        \n",
              "  <svg xmlns=\"http://www.w3.org/2000/svg\" height=\"24px\"viewBox=\"0 0 24 24\"\n",
              "       width=\"24px\">\n",
              "    <path d=\"M0 0h24v24H0V0z\" fill=\"none\"/>\n",
              "    <path d=\"M18.56 5.44l.94 2.06.94-2.06 2.06-.94-2.06-.94-.94-2.06-.94 2.06-2.06.94zm-11 1L8.5 8.5l.94-2.06 2.06-.94-2.06-.94L8.5 2.5l-.94 2.06-2.06.94zm10 10l.94 2.06.94-2.06 2.06-.94-2.06-.94-.94-2.06-.94 2.06-2.06.94z\"/><path d=\"M17.41 7.96l-1.37-1.37c-.4-.4-.92-.59-1.43-.59-.52 0-1.04.2-1.43.59L10.3 9.45l-7.72 7.72c-.78.78-.78 2.05 0 2.83L4 21.41c.39.39.9.59 1.41.59.51 0 1.02-.2 1.41-.59l7.78-7.78 2.81-2.81c.8-.78.8-2.07 0-2.86zM5.41 20L4 18.59l7.72-7.72 1.47 1.35L5.41 20z\"/>\n",
              "  </svg>\n",
              "      </button>\n",
              "      \n",
              "  <style>\n",
              "    .colab-df-container {\n",
              "      display:flex;\n",
              "      flex-wrap:wrap;\n",
              "      gap: 12px;\n",
              "    }\n",
              "\n",
              "    .colab-df-convert {\n",
              "      background-color: #E8F0FE;\n",
              "      border: none;\n",
              "      border-radius: 50%;\n",
              "      cursor: pointer;\n",
              "      display: none;\n",
              "      fill: #1967D2;\n",
              "      height: 32px;\n",
              "      padding: 0 0 0 0;\n",
              "      width: 32px;\n",
              "    }\n",
              "\n",
              "    .colab-df-convert:hover {\n",
              "      background-color: #E2EBFA;\n",
              "      box-shadow: 0px 1px 2px rgba(60, 64, 67, 0.3), 0px 1px 3px 1px rgba(60, 64, 67, 0.15);\n",
              "      fill: #174EA6;\n",
              "    }\n",
              "\n",
              "    [theme=dark] .colab-df-convert {\n",
              "      background-color: #3B4455;\n",
              "      fill: #D2E3FC;\n",
              "    }\n",
              "\n",
              "    [theme=dark] .colab-df-convert:hover {\n",
              "      background-color: #434B5C;\n",
              "      box-shadow: 0px 1px 3px 1px rgba(0, 0, 0, 0.15);\n",
              "      filter: drop-shadow(0px 1px 2px rgba(0, 0, 0, 0.3));\n",
              "      fill: #FFFFFF;\n",
              "    }\n",
              "  </style>\n",
              "\n",
              "      <script>\n",
              "        const buttonEl =\n",
              "          document.querySelector('#df-b5a4815d-b736-4a55-bd5b-af4663f4ee66 button.colab-df-convert');\n",
              "        buttonEl.style.display =\n",
              "          google.colab.kernel.accessAllowed ? 'block' : 'none';\n",
              "\n",
              "        async function convertToInteractive(key) {\n",
              "          const element = document.querySelector('#df-b5a4815d-b736-4a55-bd5b-af4663f4ee66');\n",
              "          const dataTable =\n",
              "            await google.colab.kernel.invokeFunction('convertToInteractive',\n",
              "                                                     [key], {});\n",
              "          if (!dataTable) return;\n",
              "\n",
              "          const docLinkHtml = 'Like what you see? Visit the ' +\n",
              "            '<a target=\"_blank\" href=https://colab.research.google.com/notebooks/data_table.ipynb>data table notebook</a>'\n",
              "            + ' to learn more about interactive tables.';\n",
              "          element.innerHTML = '';\n",
              "          dataTable['output_type'] = 'display_data';\n",
              "          await google.colab.output.renderOutput(dataTable, element);\n",
              "          const docLink = document.createElement('div');\n",
              "          docLink.innerHTML = docLinkHtml;\n",
              "          element.appendChild(docLink);\n",
              "        }\n",
              "      </script>\n",
              "    </div>\n",
              "  </div>\n",
              "  "
            ]
          },
          "metadata": {},
          "execution_count": 35
        }
      ]
    },
    {
      "cell_type": "code",
      "source": [
        "data.ph.isna().sum()"
      ],
      "metadata": {
        "colab": {
          "base_uri": "https://localhost:8080/"
        },
        "id": "pMPQau-cyahl",
        "outputId": "e23bb3e1-7c3c-4ca9-d44d-7c0e7ec05e15"
      },
      "execution_count": 36,
      "outputs": [
        {
          "output_type": "execute_result",
          "data": {
            "text/plain": [
              "1058"
            ]
          },
          "metadata": {},
          "execution_count": 36
        }
      ]
    },
    {
      "cell_type": "code",
      "source": [
        "data = data.dropna()"
      ],
      "metadata": {
        "id": "t00nO5X-yjZL"
      },
      "execution_count": 37,
      "outputs": []
    },
    {
      "cell_type": "code",
      "source": [
        "# Выделяем данные из столбца 1 и преобразуем их в массив NumPy\n",
        "data = data.ph.to_numpy()"
      ],
      "metadata": {
        "id": "mclHDkSLwM6J"
      },
      "execution_count": 38,
      "outputs": []
    },
    {
      "cell_type": "code",
      "source": [
        "type(data)"
      ],
      "metadata": {
        "colab": {
          "base_uri": "https://localhost:8080/"
        },
        "id": "HV_lrzu8xFY-",
        "outputId": "7aa24c1c-eacd-4611-b254-c7d0645081bc"
      },
      "execution_count": 39,
      "outputs": [
        {
          "output_type": "execute_result",
          "data": {
            "text/plain": [
              "numpy.ndarray"
            ]
          },
          "metadata": {},
          "execution_count": 39
        }
      ]
    },
    {
      "cell_type": "code",
      "source": [
        "# Строим гистограмму\n",
        "plt.hist(data, bins=20)\n",
        "plt.title(\"Гистограмма данных из файла data2.csv\")\n",
        "plt.xlabel(\"Значение\")\n",
        "plt.ylabel(\"Количество\")\n",
        "plt.show()"
      ],
      "metadata": {
        "colab": {
          "base_uri": "https://localhost:8080/",
          "height": 295
        },
        "id": "hAdq7oYmwNZ_",
        "outputId": "456fa451-c7f2-4d22-ddad-d36a8757f47d"
      },
      "execution_count": 40,
      "outputs": [
        {
          "output_type": "display_data",
          "data": {
            "text/plain": [
              "<Figure size 432x288 with 1 Axes>"
            ],
            "image/png": "[encoded data removed]"
          },
          "metadata": {
            "needs_background": "light"
          }
        }
      ]
    },
    {
      "cell_type": "code",
      "source": [
        "# Строим нормализованную гистограмму\n",
        "plt.hist(data, bins=20, density=True)\n",
        "plt.title(\"Нормализованная гистограмма данных из файла data2.csv\")\n",
        "plt.xlabel(\"Значение\")\n",
        "plt.ylabel(\"Частота\")\n",
        "plt.show()"
      ],
      "metadata": {
        "colab": {
          "base_uri": "https://localhost:8080/",
          "height": 295
        },
        "id": "MrGYJbbQwOqq",
        "outputId": "fe57d68b-01f2-4112-f1ec-0c0760d7221f"
      },
      "execution_count": 41,
      "outputs": [
        {
          "output_type": "display_data",
          "data": {
            "text/plain": [
              "<Figure size 432x288 with 1 Axes>"
            ],
            "image/png": "[encoded data removed]"
          },
          "metadata": {
            "needs_background": "light"
          }
        }
      ]
    },
    {
      "cell_type": "code",
      "source": [
        "# Выводим среднеквадратичное отклонение\n",
        "print(\"Среднеквадратичное отклонение:\", round(np.std(data), 3))"
      ],
      "metadata": {
        "colab": {
          "base_uri": "https://localhost:8080/"
        },
        "id": "2b6YhjS2wSML",
        "outputId": "4dcd7963-47e5-46b8-a6f9-3fb99e1aff4d"
      },
      "execution_count": 43,
      "outputs": [
        {
          "output_type": "stream",
          "name": "stdout",
          "text": [
            "Среднеквадратичное отклонение: 1.561\n"
          ]
        }
      ]
    },
    {
      "cell_type": "markdown",
      "source": [
        "# Задание 3"
      ],
      "metadata": {
        "id": "9zfQJyT6wTuW"
      }
    },
    {
      "cell_type": "markdown",
      "source": [
        "Для построения трехмерного графика согласно формуле x ∈ (-2π; 2π); y = sin(x)cos(x); z = sin(x)cos(x) сначала необходимо создать массив x из значений x в интервале (-2π; 2π) с помощью функции np.linspace():"
      ],
      "metadata": {
        "id": "H8q3rjFmxX48"
      }
    },
    {
      "cell_type": "code",
      "source": [
        "x = np.linspace(-2*np.pi, 2*np.pi, 1000)"
      ],
      "metadata": {
        "id": "Z-iyO1ubwT05"
      },
      "execution_count": 26,
      "outputs": []
    },
    {
      "cell_type": "markdown",
      "source": [
        "Затем вычисляем массивы y и z по заданной формуле:"
      ],
      "metadata": {
        "id": "BOxK8GnxxaPT"
      }
    },
    {
      "cell_type": "code",
      "source": [
        "y = np.sin(x) * np.cos(x)\n",
        "z = np.sin(x) * np.cos(x)"
      ],
      "metadata": {
        "id": "7ZDwLtZYxVH8"
      },
      "execution_count": 27,
      "outputs": []
    },
    {
      "cell_type": "markdown",
      "source": [
        "И, наконец, строим трехмерный график с помощью функции Axes3D:"
      ],
      "metadata": {
        "id": "SCfQvBswxbJ6"
      }
    },
    {
      "cell_type": "code",
      "source": [
        "fig = plt.figure()\n",
        "type(fig.add_subplot(111, projection='3d'))"
      ],
      "metadata": {
        "colab": {
          "base_uri": "https://localhost:8080/",
          "height": 266
        },
        "id": "gra3x9mlx4DC",
        "outputId": "5873ace6-5c08-4541-e86e-d09523d4e7ea"
      },
      "execution_count": 30,
      "outputs": [
        {
          "output_type": "execute_result",
          "data": {
            "text/plain": [
              "matplotlib.axes._subplots.Axes3DSubplot"
            ]
          },
          "metadata": {},
          "execution_count": 30
        },
        {
          "output_type": "display_data",
          "data": {
            "text/plain": [
              "<Figure size 432x288 with 1 Axes>"
            ],
            "image/png": "[encoded data removed]"
          },
          "metadata": {
            "needs_background": "light"
          }
        }
      ]
    },
    {
      "cell_type": "code",
      "source": [
        "fig = plt.figure()\n",
        "ax = fig.add_subplot(111, projection='3d')\n",
        "ax.plot(x, y, z)\n",
        "ax.set_title(\"Трехмерный график\")\n",
        "ax.set_xlabel(\"X\")\n",
        "ax.set_ylabel(\"Y\")\n",
        "ax.set_zlabel(\"Z\")\n",
        "plt.show()"
      ],
      "metadata": {
        "colab": {
          "base_uri": "https://localhost:8080/",
          "height": 248
        },
        "id": "9SzgIpr4xdJv",
        "outputId": "13377ce1-d6b9-408c-8e26-3a7ffd105549"
      },
      "execution_count": 31,
      "outputs": [
        {
          "output_type": "display_data",
          "data": {
            "text/plain": [
              "<Figure size 432x288 with 1 Axes>"
            ],
            "image/png": "[encoded data removed]"
          },
          "metadata": {
            "needs_background": "light"
          }
        }
      ]
    },
    {
      "cell_type": "markdown",
      "source": [
        "На графике видно, что функция имеет вид трехмерной спирали."
      ],
      "metadata": {
        "id": "Vpt4Nlnjx2J1"
      }
    }
  ]
}